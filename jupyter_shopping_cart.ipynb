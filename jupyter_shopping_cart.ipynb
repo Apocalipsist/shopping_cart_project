{
 "cells": [
  {
   "cell_type": "code",
   "execution_count": 5,
   "id": "9443de6a",
   "metadata": {},
   "outputs": [
    {
     "name": "stdout",
     "output_type": "stream",
     "text": [
      "What is your item? apple\n",
      "How many Apple's will you buy? 3\n",
      "How much does Apple cost? 4.50\n",
      "Your cart currently has these items:\n",
      "3 Apple: 4.5 x 3 = 13.5\n",
      "Are you finished with your purchases? Press A if you'd like to add.\n",
      " \n",
      "            If you'd like to remove something press r.\n",
      "            If you are finished enter c to check out. a\n",
      "What is your item? bananas\n",
      "How many Bananas's will you buy? 50\n",
      "How much does Bananas cost? .79\n",
      "Your cart currently has these items:\n",
      "3 Apple: 4.5 x 3 = 13.5\n",
      "50 Bananas: 0.79 x 50 = 39.5\n",
      "Are you finished with your purchases? Press A if you'd like to add.\n",
      " \n",
      "            If you'd like to remove something press r.\n",
      "            If you are finished enter c to check out. r\n",
      "What would you like to remove?apple\n",
      "Would you like add more items or would you like to check out? a or ca\n",
      "What is your item? taffy\n",
      "How many Taffy's will you buy? 3\n",
      "How much does Taffy cost? 1.50\n",
      "Your cart currently has these items:\n",
      "50 Bananas: 0.79 x 50 = 39.5\n",
      "3 Taffy: 1.5 x 3 = 4.5\n",
      "Are you finished with your purchases? Press A if you'd like to add.\n",
      " \n",
      "            If you'd like to remove something press r.\n",
      "            If you are finished enter c to check out. c\n",
      "Your cart currently has these items:\n",
      "3 Taffy: 1.5 x 3 = 4.5\n",
      "Your total ammount is $43\n"
     ]
    },
    {
     "data": {
      "text/plain": [
       "{'Bananas': {'item': 'Bananas', 'ammount': 50, 'cost': 0.79, 'price': 39.5},\n",
       " 'Taffy': {'item': 'Taffy', 'ammount': 3, 'cost': 1.5, 'price': 4.5}}"
      ]
     },
     "execution_count": 5,
     "metadata": {},
     "output_type": "execute_result"
    }
   ],
   "source": [
    "from IPython.display import clear_output\n",
    "\n",
    "\n",
    "# 1) Takes in an input\n",
    "# 2) Stores user input into a dictionary or list\n",
    "# 3) The User can add or delete items\n",
    "# 4) The User can see current shopping list\n",
    "# 5) The program Loops until user 'quits'\n",
    "# 6) Upon quiting the program, prints out a receipt of the items with total and quantity.\n",
    "\n",
    "def shopping_carts(my_cart={}):\n",
    "    #     creating loop\n",
    "    total = []\n",
    "    while True:\n",
    "\n",
    "        item = input(\"What is your item? \").title()\n",
    "        ammount = int(input(f\"How many {item}'s will you buy? \"))\n",
    "        cost = float(input(f\"How much does {item} cost? \"))\n",
    "        price = int(ammount) * float(cost)\n",
    "\n",
    "#         updating cart\n",
    "        my_cart[item] = {'item': item, 'ammount': ammount,\n",
    "                         'cost': cost, 'price': price}\n",
    "\n",
    "       \n",
    "        print(\"Your cart currently has these items:\")\n",
    "\n",
    "        for item, info, in my_cart.items():\n",
    "            print(\n",
    "                f\"{info['ammount']} {info['item']}: {info['cost']} x {info['ammount']} = {info['price']}\")\n",
    "\n",
    "        ask = input(\"\"\"Are you finished with your purchases? Press A if you'd like to add.\\n \n",
    "            If you'd like to remove something press r.\n",
    "            If you are finished enter c to check out. \"\"\").lower()\n",
    "\n",
    "        while ask not in {'c', 'r', 'a'}:\n",
    "#             clear_output()\n",
    "            ask = input(\n",
    "                'that is not a valid response. Please answer c, r or a.')\n",
    "\n",
    "        if ask == 'r':\n",
    "#             clear_output()\n",
    "            for item in my_cart.items():\n",
    "                my_cart.pop(input(\"What would you like to remove?\").title())\n",
    "                ask = input(\n",
    "                    \"Would you like add more items or would you like to check out? a or c\")\n",
    "                break\n",
    "\n",
    "        if ask == 'a':\n",
    "            continue\n",
    "\n",
    "        if ask == 'c':\n",
    "            for item, info in my_cart.items():\n",
    "                total.append(int(info['price']))\n",
    "\n",
    "            total = sum(total)\n",
    "            break\n",
    "\n",
    "    print(\"Your cart currently has these items:\")\n",
    "    for item in my_cart.items():\n",
    "        print(\n",
    "            f\"{info['ammount']} {info['item']}: {info['cost']} x {info['ammount']} = {info['price']}\")\n",
    "        print(f\"Your total ammount is ${total}\")\n",
    "        # return my_cart\n",
    "\n",
    "\n",
    "shopping_carts()\n",
    "\n"
   ]
  },
  {
   "cell_type": "code",
   "execution_count": null,
   "id": "b482768d",
   "metadata": {},
   "outputs": [],
   "source": []
  }
 ],
 "metadata": {
  "kernelspec": {
   "display_name": "Python 3.10.7 64-bit",
   "language": "python",
   "name": "python3"
  },
  "language_info": {
   "codemirror_mode": {
    "name": "ipython",
    "version": 3
   },
   "file_extension": ".py",
   "mimetype": "text/x-python",
   "name": "python",
   "nbconvert_exporter": "python",
   "pygments_lexer": "ipython3",
   "version": "3.10.7"
  },
  "vscode": {
   "interpreter": {
    "hash": "89b5318af201cfb04e7d524c1b6673359def82d0442565728f41e5df2809b9b3"
   }
  }
 },
 "nbformat": 4,
 "nbformat_minor": 5
}
